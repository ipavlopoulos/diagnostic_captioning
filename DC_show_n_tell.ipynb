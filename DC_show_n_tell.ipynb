{
  "nbformat": 4,
  "nbformat_minor": 0,
  "metadata": {
    "colab": {
      "name": "DC_show_n_tell.ipynb",
      "version": "0.3.2",
      "provenance": [],
      "collapsed_sections": [],
      "toc_visible": true,
      "include_colab_link": true
    },
    "kernelspec": {
      "name": "python3",
      "display_name": "Python 3"
    },
    "accelerator": "GPU"
  },
  "cells": [
    {
      "cell_type": "markdown",
      "metadata": {
        "id": "view-in-github",
        "colab_type": "text"
      },
      "source": [
        "<a href=\"https://colab.research.google.com/github/ipavlopoulos/diagnostic_captioning/blob/master/DC_show_n_tell.ipynb\" target=\"_parent\"><img src=\"https://colab.research.google.com/assets/colab-badge.svg\" alt=\"Open In Colab\"/></a>"
      ]
    },
    {
      "cell_type": "markdown",
      "metadata": {
        "id": "quJfoD8QjUdQ",
        "colab_type": "text"
      },
      "source": [
        "#Medical Image To Diagnostic Text\n",
        "---\n",
        "\n",
        "### Use the IU-Xray dataset, including radiology XRays along with their human-generated findings/impressions, to train the Show & Tell Encoder-Decoder model. \n",
        "\n",
        "The code is based on https://machinelearningmastery.com/develop-a-caption-generation-model-in-keras/ while future work will  i) add visual/semantic attention, ii) experiment with first words given, iii) decode hierarchicaly/consecutive."
      ]
    },
    {
      "cell_type": "code",
      "metadata": {
        "id": "lHISyBR46mHp",
        "colab_type": "code",
        "outputId": "0112dce6-dbfb-49c9-9cb5-cf1c86851242",
        "colab": {
          "base_uri": "https://localhost:8080/",
          "height": 493
        }
      },
      "source": [
        "# Download the dataset and put in proper folder to use it.\n",
        "!git clone https://github.com/nlpaueb/bio_image_caption.git\n",
        "!python bio_image_caption/SiVL19/get_iu_xray.py\n",
        "!cp -n -r iu_xray /usr/local/share/jupyter/nbextensions/google.colab/iu_xray"
      ],
      "execution_count": 44,
      "outputs": [
        {
          "output_type": "stream",
          "text": [
            "fatal: destination path 'bio_image_caption' already exists and is not an empty directory.\n",
            "--2019-08-08 10:29:16--  https://openi.nlm.nih.gov/imgs/collections/NLMCXR_png.tgz\n",
            "Resolving openi.nlm.nih.gov (openi.nlm.nih.gov)... 130.14.52.157, 2607:f220:41e:7052::157\n",
            "Connecting to openi.nlm.nih.gov (openi.nlm.nih.gov)|130.14.52.157|:443... connected.\n",
            "HTTP request sent, awaiting response... 200 OK\n",
            "Length: 1360814128 (1.3G) [application/x-gzip]\n",
            "Saving to: ‘iu_xray/NLMCXR_png.tgz’\n",
            "\n",
            "NLMCXR_png.tgz      100%[===================>]   1.27G  74.1MB/s    in 18s     \n",
            "\n",
            "2019-08-08 10:29:34 (70.6 MB/s) - ‘iu_xray/NLMCXR_png.tgz’ saved [1360814128/1360814128]\n",
            "\n",
            "--2019-08-08 10:29:34--  https://openi.nlm.nih.gov/imgs/collections/NLMCXR_reports.tgz\n",
            "Resolving openi.nlm.nih.gov (openi.nlm.nih.gov)... 130.14.52.157, 2607:f220:41e:7052::157\n",
            "Connecting to openi.nlm.nih.gov (openi.nlm.nih.gov)|130.14.52.157|:443... connected.\n",
            "HTTP request sent, awaiting response... 200 OK\n",
            "Length: 1112632 (1.1M) [application/x-gzip]\n",
            "Saving to: ‘iu_xray/NLMCXR_reports.tgz’\n",
            "\n",
            "NLMCXR_reports.tgz  100%[===================>]   1.06M  2.55MB/s    in 0.4s    \n",
            "\n",
            "2019-08-08 10:29:35 (2.55 MB/s) - ‘iu_xray/NLMCXR_reports.tgz’ saved [1112632/1112632]\n",
            "\n",
            "Found 104 reports with no associated image\n",
            "Found 25 reports with empty Impression and Findings sections\n",
            "Found 6 reports with no Impression section\n",
            "Found 489 reports with no Findings section\n",
            "Collected 7430 image-caption pairs\n"
          ],
          "name": "stdout"
        }
      ]
    },
    {
      "cell_type": "code",
      "metadata": {
        "id": "cjgktXnEVXin",
        "colab_type": "code",
        "colab": {
          "base_uri": "https://localhost:8080/",
          "height": 68
        },
        "outputId": "3c087608-9c78-4b21-c98c-9ec734542c2b"
      },
      "source": [
        "# imports\n",
        "from __future__ import absolute_import, division, print_function, unicode_literals\n",
        "import matplotlib.pyplot as plt\n",
        "from sklearn.model_selection import train_test_split\n",
        "from sklearn.utils import shuffle\n",
        "import random\n",
        "import os\n",
        "import json\n",
        "import numpy as np\n",
        "import pandas as pd\n",
        "import re\n",
        "import time\n",
        "from glob import glob\n",
        "from PIL import Image\n",
        "import pickle\n",
        "from os import listdir\n",
        "from nltk.translate.bleu_score import corpus_bleu, sentence_bleu\n",
        "import keras\n",
        "from keras.applications.vgg16 import VGG16\n",
        "from keras.preprocessing.image import load_img\n",
        "from keras.preprocessing.image import img_to_array\n",
        "from keras.preprocessing.text import Tokenizer\n",
        "from keras.applications.vgg16 import preprocess_input\n",
        "from keras.layers import Input\n",
        "from keras.utils import plot_model\n",
        "from keras.models import Model\n",
        "from keras.layers import Input\n",
        "from keras.layers import Dense\n",
        "from keras.layers import Flatten\n",
        "from keras.layers import GRU, LSTM\n",
        "from keras.layers import RepeatVector\n",
        "from keras.layers import TimeDistributed\n",
        "from keras.layers import Embedding\n",
        "from keras.layers.merge import concatenate\n",
        "from keras.layers.pooling import GlobalMaxPooling2D\n",
        "import nltk\n",
        "nltk.download('punkt')"
      ],
      "execution_count": 13,
      "outputs": [
        {
          "output_type": "stream",
          "text": [
            "[nltk_data] Downloading package punkt to /root/nltk_data...\n",
            "[nltk_data]   Package punkt is already up-to-date!\n"
          ],
          "name": "stdout"
        },
        {
          "output_type": "execute_result",
          "data": {
            "text/plain": [
              "True"
            ]
          },
          "metadata": {
            "tags": []
          },
          "execution_count": 13
        }
      ]
    },
    {
      "cell_type": "markdown",
      "metadata": {
        "id": "OF_aZAubkosz",
        "colab_type": "text"
      },
      "source": [
        "# `Parse the texts and any tags, even if they aren't used.` "
      ]
    },
    {
      "cell_type": "code",
      "metadata": {
        "id": "r0y8v1Lt7I6r",
        "colab_type": "code",
        "colab": {}
      },
      "source": [
        "# download the image tags\n",
        "DATA_PATH = \"iu_xray/\"\n",
        "DATA_IMAGES_PATH = os.path.join(DATA_PATH, \"iu_xray_images\")\n",
        "iuxray_major_tags = json.load(open(DATA_PATH+\"iu_xray_major_tags.json\"))\n",
        "iuxray_auto_tags = json.load(open(DATA_PATH+\"iu_xray_auto_tags.json\"))\n",
        "iuxray_captions = json.load(open(DATA_PATH+\"iu_xray_captions.json\"))"
      ],
      "execution_count": 0,
      "outputs": []
    },
    {
      "cell_type": "code",
      "metadata": {
        "id": "rCepLyLg7diP",
        "colab_type": "code",
        "outputId": "f90ece47-ec50-4aa2-e1f0-dea3ff911c0b",
        "colab": {
          "base_uri": "https://localhost:8080/",
          "height": 51
        }
      },
      "source": [
        "# parse the captions\n",
        "iuxray_ids = list(iuxray_captions.keys())\n",
        "iuxray_caption_texts = [iuxray_captions[iid].split() for iid in iuxray_ids]\n",
        "iuxray_captions_num = len(iuxray_ids)\n",
        "print (\"# texts: {0}\".format(iuxray_captions_num))\n",
        "raw_texts = [\" \".join(t) for t in iuxray_caption_texts]\n",
        "print (len(raw_texts), len(set(raw_texts)))"
      ],
      "execution_count": 46,
      "outputs": [
        {
          "output_type": "stream",
          "text": [
            "# texts: 7430\n",
            "7430 3066\n"
          ],
          "name": "stdout"
        }
      ]
    },
    {
      "cell_type": "markdown",
      "metadata": {
        "id": "8-16ZpiKk7aq",
        "colab_type": "text"
      },
      "source": [
        "# `Map image/captions to the patient they correspond. `"
      ]
    },
    {
      "cell_type": "code",
      "metadata": {
        "id": "bfdJM4PkXRaA",
        "colab_type": "code",
        "colab": {
          "base_uri": "https://localhost:8080/",
          "height": 34
        },
        "outputId": "d4fccb68-2b6d-4b06-ebf1-27af617422c3"
      },
      "source": [
        "patient_images = {}\n",
        "for visit in iuxray_ids:\n",
        "  patient = visit[3:].split(\"_\")[0]\n",
        "  if patient in patient_images:\n",
        "    patient_images[patient].append(visit)\n",
        "  else:\n",
        "    patient_images[patient] = [visit]\n",
        "\n",
        "# a model should be reading both images per patient while excluding other patients\n",
        "iuxray_ids_img1 = [patient_images[patient][0] for patient in patient_images if len(patient_images[patient])==1]\n",
        "iuxray_ids_img2 = [patient_images[patient][0] for patient in patient_images if len(patient_images[patient])==2]\n",
        "iuxray_ids_img3 = [patient_images[patient][0] for patient in patient_images if len(patient_images[patient])>2]\n",
        "print (\"#patients with 1, 2, or more images:\", len(iuxray_ids_img1), len(iuxray_ids_img2), len(iuxray_ids_img3))\n",
        "#print (patient_images)"
      ],
      "execution_count": 47,
      "outputs": [
        {
          "output_type": "stream",
          "text": [
            "#patients with 1, 2, or more images: 435 3195 196\n"
          ],
          "name": "stdout"
        }
      ]
    },
    {
      "cell_type": "markdown",
      "metadata": {
        "id": "8UBnUApQlrU_",
        "colab_type": "text"
      },
      "source": [
        "# `Download a sentence tokenizer and preprocess the text.`"
      ]
    },
    {
      "cell_type": "code",
      "metadata": {
        "id": "YyAlSl_N6r3i",
        "colab_type": "code",
        "colab": {}
      },
      "source": [
        "train_path = os.path.join(DATA_PATH, \"train_images.tsv\")\n",
        "test_path = os.path.join(DATA_PATH, \"test_images.tsv\")\n",
        "train_data = pd.read_csv(train_path, sep=\"\\t\", header=None) \n",
        "test_data = pd.read_csv(test_path, sep=\"\\t\", header=None) \n",
        "train_data.columns = [\"id\", \"caption\"]\n",
        "test_data.columns = [\"id\", \"caption\"]\n",
        "start, end, sentence_token = \"startsequence\", \"endsequence\", \" endofsentence \"\n",
        "\n",
        "def preprocess(text, start=start, end=end, sentence_token=sentence_token):\n",
        "  if sentence_token is not None:\n",
        "    sentences = nltk.tokenize.sent_tokenize(text)\n",
        "    sentences = [s for s in sentences if len(s)>5]\n",
        "    text = sentence_token.join(sentences)\n",
        "  text = text.lower()\n",
        "  return start + ' ' + text + ' ' + end"
      ],
      "execution_count": 0,
      "outputs": []
    },
    {
      "cell_type": "markdown",
      "metadata": {
        "id": "6H4ybaNgmRvi",
        "colab_type": "text"
      },
      "source": [
        "***Merge image/captions of same patient and use only patients with 2 images:***"
      ]
    },
    {
      "cell_type": "code",
      "metadata": {
        "id": "0xTgzXeQmEOZ",
        "colab_type": "code",
        "colab": {
          "base_uri": "https://localhost:8080/",
          "height": 68
        },
        "outputId": "37fb0cd8-7d63-4ff7-d41d-dc0414beafff"
      },
      "source": [
        "# use the patient DB to create the datasets (one caption per patient)\n",
        "image_captions = dict(zip(train_data.id.to_list()+test_data.id.to_list(), train_data.caption.to_list()+test_data.caption.to_list()))\n",
        "print (\"# captions\", len(image_captions))\n",
        "patient_captions = {patient:[image_captions[img] for img in patient_images[patient]] for patient in patient_images}\n",
        "print (\"# patients\", len(patient_captions))\n",
        "# discard patients without both XRays\n",
        "ids = list(patient_captions.keys())\n",
        "for patient in ids:\n",
        "  if len(patient_captions[patient])!=2:\n",
        "    del patient_captions[patient], patient_images[patient]\n",
        "  else:\n",
        "    patient_captions[patient] = preprocess(patient_captions[patient][0])\n",
        "    patient_images[patient] = [os.path.join(DATA_IMAGES_PATH, img_name) for img_name in patient_images[patient]] \n",
        "\n",
        "ids = list(patient_captions.keys())\n",
        "random.shuffle(ids)\n",
        "sample_size = int(len(ids)*.1)\n",
        "train_ids = ids[:-sample_size]\n",
        "test_ids = ids[-sample_size:]\n",
        "print (\"# train/test: \", len(train_ids), len(test_ids))"
      ],
      "execution_count": 49,
      "outputs": [
        {
          "output_type": "stream",
          "text": [
            "# captions 7430\n",
            "# patients 3826\n",
            "# train/test:  2876 319\n"
          ],
          "name": "stdout"
        }
      ]
    },
    {
      "cell_type": "markdown",
      "metadata": {
        "id": "_a9E7PC8nYn7",
        "colab_type": "text"
      },
      "source": [
        "# `Set up the VGG19 encoder and encode all the images. `"
      ]
    },
    {
      "cell_type": "code",
      "metadata": {
        "id": "pYGT5NUiq3N0",
        "colab_type": "code",
        "outputId": "18f596c4-74dd-49e5-d494-6ada6c05619c",
        "colab": {
          "base_uri": "https://localhost:8080/",
          "height": 799
        }
      },
      "source": [
        "in_layer = Input(shape=(224, 224, 3))\n",
        "encoder = VGG16(include_top=False, input_tensor=in_layer)\n",
        "print(encoder.summary())"
      ],
      "execution_count": 50,
      "outputs": [
        {
          "output_type": "stream",
          "text": [
            "_________________________________________________________________\n",
            "Layer (type)                 Output Shape              Param #   \n",
            "=================================================================\n",
            "input_11 (InputLayer)        (None, 224, 224, 3)       0         \n",
            "_________________________________________________________________\n",
            "block1_conv1 (Conv2D)        (None, 224, 224, 64)      1792      \n",
            "_________________________________________________________________\n",
            "block1_conv2 (Conv2D)        (None, 224, 224, 64)      36928     \n",
            "_________________________________________________________________\n",
            "block1_pool (MaxPooling2D)   (None, 112, 112, 64)      0         \n",
            "_________________________________________________________________\n",
            "block2_conv1 (Conv2D)        (None, 112, 112, 128)     73856     \n",
            "_________________________________________________________________\n",
            "block2_conv2 (Conv2D)        (None, 112, 112, 128)     147584    \n",
            "_________________________________________________________________\n",
            "block2_pool (MaxPooling2D)   (None, 56, 56, 128)       0         \n",
            "_________________________________________________________________\n",
            "block3_conv1 (Conv2D)        (None, 56, 56, 256)       295168    \n",
            "_________________________________________________________________\n",
            "block3_conv2 (Conv2D)        (None, 56, 56, 256)       590080    \n",
            "_________________________________________________________________\n",
            "block3_conv3 (Conv2D)        (None, 56, 56, 256)       590080    \n",
            "_________________________________________________________________\n",
            "block3_pool (MaxPooling2D)   (None, 28, 28, 256)       0         \n",
            "_________________________________________________________________\n",
            "block4_conv1 (Conv2D)        (None, 28, 28, 512)       1180160   \n",
            "_________________________________________________________________\n",
            "block4_conv2 (Conv2D)        (None, 28, 28, 512)       2359808   \n",
            "_________________________________________________________________\n",
            "block4_conv3 (Conv2D)        (None, 28, 28, 512)       2359808   \n",
            "_________________________________________________________________\n",
            "block4_pool (MaxPooling2D)   (None, 14, 14, 512)       0         \n",
            "_________________________________________________________________\n",
            "block5_conv1 (Conv2D)        (None, 14, 14, 512)       2359808   \n",
            "_________________________________________________________________\n",
            "block5_conv2 (Conv2D)        (None, 14, 14, 512)       2359808   \n",
            "_________________________________________________________________\n",
            "block5_conv3 (Conv2D)        (None, 14, 14, 512)       2359808   \n",
            "_________________________________________________________________\n",
            "block5_pool (MaxPooling2D)   (None, 7, 7, 512)         0         \n",
            "=================================================================\n",
            "Total params: 14,714,688\n",
            "Trainable params: 14,714,688\n",
            "Non-trainable params: 0\n",
            "_________________________________________________________________\n",
            "None\n"
          ],
          "name": "stdout"
        }
      ]
    },
    {
      "cell_type": "code",
      "metadata": {
        "id": "Q0QWKLVSj5AR",
        "colab_type": "code",
        "colab": {}
      },
      "source": [
        "def encode(img_path):\n",
        "  image = keras.preprocessing.image.load_img(img_path, target_size=(224, 224))\n",
        "  # convert the image pixels to a numpy array\n",
        "  image = keras.preprocessing.image.img_to_array(image)\n",
        "  # prepare the image for the model\n",
        "  image = image.reshape((1, image.shape[0], image.shape[1], image.shape[2]))\n",
        "  image = keras.applications.densenet.preprocess_input(image)\n",
        "  return encoder.predict(image, verbose=0)"
      ],
      "execution_count": 0,
      "outputs": []
    },
    {
      "cell_type": "code",
      "metadata": {
        "id": "DdNBTxu_iwjD",
        "colab_type": "code",
        "outputId": "4b39319c-fa9c-486e-b26e-861e12545e87",
        "colab": {
          "base_uri": "https://localhost:8080/",
          "height": 34
        }
      },
      "source": [
        "from tqdm import tqdm\n",
        "train_encoded_images = {}\n",
        "for pid in tqdm(train_ids):\n",
        "  train_encoded_images[pid] = [encode(img_path) for img_path in patient_images[pid]]"
      ],
      "execution_count": 52,
      "outputs": [
        {
          "output_type": "stream",
          "text": [
            "100%|██████████| 2876/2876 [01:14<00:00, 38.64it/s]\n"
          ],
          "name": "stderr"
        }
      ]
    },
    {
      "cell_type": "code",
      "metadata": {
        "id": "kA8T0NddoTSe",
        "colab_type": "code",
        "colab": {
          "base_uri": "https://localhost:8080/",
          "height": 34
        },
        "outputId": "fea731b7-e7cc-4f18-dc1b-5c8543a0d6ce"
      },
      "source": [
        "test_encoded_images = {}\n",
        "for pid in tqdm(test_ids):\n",
        "  test_encoded_images[pid] = [encode(img_path) for img_path in patient_images[pid]]\n",
        "\n",
        "test_captions = {pid:patient_captions[pid] for pid in test_ids}"
      ],
      "execution_count": 53,
      "outputs": [
        {
          "output_type": "stream",
          "text": [
            "100%|██████████| 319/319 [00:08<00:00, 38.37it/s]\n"
          ],
          "name": "stderr"
        }
      ]
    },
    {
      "cell_type": "code",
      "metadata": {
        "id": "hmjwVDpfyiPg",
        "colab_type": "code",
        "colab": {}
      },
      "source": [
        "pickle.dump(train_encoded_images, open(\"train_encoded_images.pkl\", \"wb\"))\n",
        "pickle.dump(test_encoded_images, open(\"test_encoded_images.pkl\", \"wb\"))\n",
        "pickle.dump(patient_images, open(\"patient_images.pkl\", \"wb\"))"
      ],
      "execution_count": 0,
      "outputs": []
    },
    {
      "cell_type": "code",
      "metadata": {
        "id": "rXwBmvdxA3DO",
        "colab_type": "code",
        "colab": {}
      },
      "source": [
        "train_captions = {pid:patient_captions[pid] for pid in train_ids}\n",
        "pickle.dump(patient_captions, open(\"patient_captions.pkl\", \"wb\"))"
      ],
      "execution_count": 0,
      "outputs": []
    },
    {
      "cell_type": "markdown",
      "metadata": {
        "id": "UTTBzhRNorNO",
        "colab_type": "text"
      },
      "source": [
        "# `Compute the Vocabulary and make a data processing method.`"
      ]
    },
    {
      "cell_type": "code",
      "metadata": {
        "id": "uPYK-9DAjjEV",
        "colab_type": "code",
        "colab": {
          "base_uri": "https://localhost:8080/",
          "height": 34
        },
        "outputId": "7e65f03d-4e57-481b-e697-8738a04c512c"
      },
      "source": [
        "tokenizer = Tokenizer()\n",
        "tokenizer.fit_on_texts((train_captions.values()))\n",
        "vocab_size = len(tokenizer.word_index) + 1\n",
        "print('Vocabulary Size: %d' % vocab_size)"
      ],
      "execution_count": 56,
      "outputs": [
        {
          "output_type": "stream",
          "text": [
            "Vocabulary Size: 1807\n"
          ],
          "name": "stdout"
        }
      ]
    },
    {
      "cell_type": "code",
      "metadata": {
        "id": "TU__yZuemGJD",
        "colab_type": "code",
        "colab": {}
      },
      "source": [
        "def create_sequences(tokenizer, caption, image1, image2, max_length):\n",
        "\tXimages1,Ximages2, XSeq, y = list(), list(), list(),list()\n",
        "\tvocab_size = len(tokenizer.word_index) + 1\n",
        "\t# integer encode the description\n",
        "\tseq = tokenizer.texts_to_sequences([caption])[0]\n",
        "\t# split one sequence into multiple X,y pairs\n",
        "\tfor i in range(1, len(seq)):\n",
        "\t\t# select\n",
        "\t\tin_seq, out_seq = seq[:i], seq[i]\n",
        "\t\t# pad input sequence\n",
        "\t\tin_seq = keras.preprocessing.sequence.pad_sequences([in_seq], maxlen=max_length)[0]\n",
        "\t\t# encode output sequence\n",
        "\t\tout_seq = keras.utils.to_categorical([out_seq], num_classes=vocab_size)[0]\n",
        "\t\t# store\n",
        "\t\tXimages1.append(image1)\n",
        "\t\tXimages2.append(image2)\n",
        "\t\tXSeq.append(in_seq)\n",
        "\t\ty.append(out_seq)\n",
        "\treturn [Ximages1, Ximages2, XSeq, y]\n",
        "\n",
        "#print (np.array(create_sequences(tokenizer, list(train_captions.values())[0], train_encoded_images[train_ids[0]][0][0], train_encoded_images[train_ids[0]][1][0], 58)).shape)"
      ],
      "execution_count": 0,
      "outputs": []
    },
    {
      "cell_type": "markdown",
      "metadata": {
        "id": "RT5YW0LRo_6m",
        "colab_type": "text"
      },
      "source": [
        "# `Core methods for setting up the model.`"
      ]
    },
    {
      "cell_type": "code",
      "metadata": {
        "id": "JmkgaRAsmuSR",
        "colab_type": "code",
        "colab": {}
      },
      "source": [
        "# define the captioning model\n",
        "def define_model(vocab_size, max_length, loss=\"categorical_crossentropy\"):\n",
        "  # feature extractor (encoder)\n",
        "  inputs1 = Input(shape=(7, 7, 512))\n",
        "  inputs2 = Input(shape=(7, 7, 512))\n",
        "  fe1 = GlobalMaxPooling2D()(inputs1)\n",
        "  fe2 = GlobalMaxPooling2D()(inputs2)\n",
        "  fe3 = Dense(128, activation='relu')(fe1)\n",
        "  fe4 = Dense(128, activation='relu')(fe2)\n",
        "  fe5 = concatenate([fe3,fe4])\n",
        "  fe6 = RepeatVector(max_length)(fe5)\n",
        "  # embedding\n",
        "  inputs3 = Input(shape=(max_length,))\n",
        "  emb2 = Embedding(vocab_size, 50, mask_zero=True)(inputs3)\n",
        "  emb3 = GRU(128, return_sequences=True)(emb2)\n",
        "  emb4 = TimeDistributed(Dense(128, activation='relu'))(emb3)\n",
        "  # merge inputs\n",
        "  merged = concatenate([fe6, emb4])  \n",
        "  # language model (decoder)\n",
        "  lm2 = GRU(256)(merged)\n",
        "  lm3 = Dense(128, activation='relu')(lm2)\n",
        "  outputs = Dense(vocab_size, activation='softmax')(lm3)\n",
        "  # tie it together [image, seq] [word]\n",
        "  model = Model(inputs=[inputs1,inputs2, inputs3], outputs=outputs)\n",
        "  model.compile(loss=loss, optimizer=keras.optimizers.Adam(), metrics=['accuracy'])\n",
        "  # loss could also be e.g. nltk.translate.bleu_score.sentence_bleu\n",
        "  print(model.summary())\n",
        "  plot_model(model, show_shapes=True, to_file='plot.png')\n",
        "  return model"
      ],
      "execution_count": 0,
      "outputs": []
    },
    {
      "cell_type": "code",
      "metadata": {
        "id": "icaUqfkqr3tL",
        "colab_type": "code",
        "colab": {}
      },
      "source": [
        "# map an integer to a word\n",
        "def word_for_id(integer, tokenizer):\n",
        "\tfor word, index in tokenizer.word_index.items():\n",
        "\t\tif index == integer:\n",
        "\t\t\treturn word\n",
        "\treturn None\n",
        " \n",
        "# generate a description for an image\n",
        "def generate_desc(model, tokenizer, photos, max_length):\n",
        "\t# seed the generation process\n",
        "\tin_text = start\n",
        "\t# iterate over the whole length of the sequence\n",
        "\tfor i in range(max_length):\n",
        "\t\t# integer encode input sequence\n",
        "\t\tsequence = tokenizer.texts_to_sequences([in_text])[0]\n",
        "\t\t# pad input\n",
        "\t\tsequence = keras.preprocessing.sequence.pad_sequences([sequence], maxlen=max_length)\n",
        "\t\t# predict next word\n",
        "\t\tyhat = model.predict([photos[0],photos[1],sequence], verbose=0)\n",
        "\t\t# convert probability to integer\n",
        "\t\tyhat = np.argmax(yhat)\n",
        "\t\t# map integer to word\n",
        "\t\tword = word_for_id(yhat, tokenizer)\n",
        "\t\t# stop if we cannot map the word\n",
        "\t\tif word is None:\n",
        "\t\t\tbreak\n",
        "\t\t# append as input for generating the next word\n",
        "\t\tin_text += ' ' + word\n",
        "\t\t# stop if we predict the end of the sequence\n",
        "\t\tif word == end:\n",
        "\t\t\tbreak\n",
        "\treturn in_text\n",
        "\n",
        "# generate a description for an image\n",
        "def generate_desc_beam(model, tokenizer, photos, max_length, beam_size=10):\n",
        "  in_text = [start]\n",
        "  start_word = [[start, 0.0]]\n",
        "  while len(start_word[0][0]) < max_length:\n",
        "    tmp = []\n",
        "    for s in start_word:\n",
        "      sequence = tokenizer.texts_to_sequences(s[0])\n",
        "      sequence = keras.preprocessing.sequence.pad_sequences([sequence[0]], maxlen=max_length)\n",
        "      yhat = model.predict([photos[0],photos[1], np.array(sequence)], verbose=0)\n",
        "      word_yhat = np.argsort(yhat[0])[-beam_size:]\n",
        "      for w in word_yhat:\n",
        "        nextcap, prob = s[0], s[1]\n",
        "        nextcap+= ' ' + word_for_id(w, tokenizer)\n",
        "        prob += yhat[0][w]\n",
        "        #print (nextcap, prob)\n",
        "        tmp.append([nextcap, prob])    \n",
        "    start_word = tmp\n",
        "    start_word = sorted(start_word, reverse=False, key=lambda l: l[1])\n",
        "    start_word = start_word[-beam_size:]    \n",
        "  start_word = start_word[-1][0]\n",
        "  intermediate_caption = start_word\n",
        "  final_caption = []    \n",
        "  for i in intermediate_caption.split():\n",
        "    if i != end: final_caption.append(i)\n",
        "    else: break\n",
        "  final_caption = ' '.join(final_caption[1:])\n",
        "  return final_caption   \n",
        "#bleu = evaluate_n_visualise(loaded_model, test_captions, test_encoded_images, tokenizer, max_length, beam=10)\n",
        "\n",
        "# evaluate the skill of the model\n",
        "def evaluate_model(model, descriptions, photos, tokenizer, max_length):\n",
        "\tactual, predicted = list(), list()\n",
        "\t# step over the whole set\n",
        "\tfor key, desc in descriptions.items():\n",
        "\t\t# generate description\n",
        "\t\tyhat = generate_desc(model, tokenizer, photos[key], max_length)\n",
        "\t\t# store actual and predicted\n",
        "\t\tactual.append([desc.split()])\n",
        "\t\tpredicted.append(yhat.split())\n",
        "\t# calculate BLEU score\n",
        "\tbleu = corpus_bleu(actual, predicted)\n",
        "\treturn bleu"
      ],
      "execution_count": 0,
      "outputs": []
    },
    {
      "cell_type": "code",
      "metadata": {
        "id": "ODtEGAkKo-rj",
        "colab_type": "code",
        "colab": {}
      },
      "source": [
        "# data generator, intended to be used in a call to model.fit_generator()\n",
        "def data_generator(captions, image_tuples, tokenizer, max_length, n_step, validation=False, validation_num=None):\n",
        "  while 1:\n",
        "    # iterate over patients - hold some for validation\n",
        "    patients = list(captions.keys())\n",
        "    if validation:\n",
        "      assert validation_num>0\n",
        "      patients = patients[-validation_num:]\n",
        "    elif not validation:\n",
        "      if validation_num>0:\n",
        "        patients = patients[:-validation_num]\n",
        "        \n",
        "    for i in range(0, len(patients), n_step):\n",
        "      Ximages1, Ximages2, XSeq, y = list(), list(), list(),list()\n",
        "      for j in range(i, min(len(patients), i+n_step)):\n",
        "        patient_id = patients[j]\n",
        "        # retrieve text input\n",
        "        caption = captions[patient_id]\n",
        "        # generate input-output pairs (many images in each batch)\n",
        "        img1 = image_tuples[patient_id][0][0]\n",
        "        img2 = image_tuples[patient_id][1][0]\n",
        "        in_img1, in_img2, in_seq, out_word = create_sequences(tokenizer, caption, img1, img2, max_length)\n",
        "        for k in range(len(in_img1)):\n",
        "          Ximages1.append(in_img1[k])\n",
        "          Ximages2.append(in_img2[k])\n",
        "          XSeq.append(in_seq[k])\n",
        "          y.append(out_word[k])\n",
        "        # yield this batch of samples to the model\n",
        "        #print (array(Ximages1).shape)\n",
        "      yield [np.array(Ximages1), np.array(Ximages2), np.array(XSeq)], np.array(y)"
      ],
      "execution_count": 0,
      "outputs": []
    },
    {
      "cell_type": "code",
      "metadata": {
        "id": "fpEW7iO8EkMx",
        "colab_type": "code",
        "colab": {}
      },
      "source": [
        "# evaluate the skill of the model\n",
        "def evaluate_n_visualise(model, descriptions, photos, tokenizer, max_length, size=5, beam=0):\n",
        "  actual, predicted = list(), list()\n",
        "  # step over the whole set\n",
        "  for key, desc in descriptions.items():\n",
        "    if random.random() > 0.8 :\n",
        "      # generate description\n",
        "      if beam>0:\n",
        "        yhat = generate_desc_beam(model, tokenizer, photos[key], max_length, beam_size=beam)\n",
        "      else:\n",
        "        yhat = generate_desc(model, tokenizer, photos[key], max_length)\n",
        "      # store actual and predicted\n",
        "      print('Actual:    %s' % desc)\n",
        "      print('Predicted: %s\\n' % yhat)\n",
        "      actual.append([desc.split()])\n",
        "      predicted.append(yhat.split())\n",
        "      if len(actual) >= size: break\n",
        "  # calculate BLEU score\n",
        "  bleu = corpus_bleu(actual, predicted)\n",
        "  return bleu\n"
      ],
      "execution_count": 0,
      "outputs": []
    },
    {
      "cell_type": "markdown",
      "metadata": {
        "id": "Qta5psUqpYQG",
        "colab_type": "text"
      },
      "source": [
        "# `Run the model.`"
      ]
    },
    {
      "cell_type": "code",
      "metadata": {
        "id": "Gesx_hMeYJ73",
        "colab_type": "code",
        "outputId": "6d8be214-1996-4266-d666-3ffd1e68e37f",
        "colab": {
          "base_uri": "https://localhost:8080/",
          "height": 34
        }
      },
      "source": [
        "# define experiment\n",
        "verbose = 1\n",
        "n_epochs = 300\n",
        "max_length = 60\n",
        "n_patients_per_update = 16\n",
        "val_len = int(.01 * len(train_ids))\n",
        "train_len = len(train_ids) - val_len\n",
        "train_steps = int(train_len / n_patients_per_update)\n",
        "val_steps = int(val_len / n_patients_per_update)\n",
        "model_name = 'show_n_tell.e'+str(n_epochs)+'.ml'+str(max_length) + '.ppu'+str(n_patients_per_update) + '.val'+str(val_steps)\n",
        "print (train_steps, val_steps, model_name)"
      ],
      "execution_count": 62,
      "outputs": [
        {
          "output_type": "stream",
          "text": [
            "178 1 show_n_tell.e300.ml60.ppu16.val1\n"
          ],
          "name": "stdout"
        }
      ]
    },
    {
      "cell_type": "code",
      "metadata": {
        "id": "NrHVTrJDXFNx",
        "colab_type": "code",
        "colab": {}
      },
      "source": [
        "show_n_tell = define_model(vocab_size, max_length, loss=\"categorical_crossentropy\")\n",
        "\n",
        "# Train\n",
        "train_gen = data_generator(train_captions, train_encoded_images, tokenizer, max_length, n_patients_per_update, validation=False, validation_num=val_len)\n",
        "val_gen = data_generator(train_captions, train_encoded_images, tokenizer, max_length, n_patients_per_update, validation=True, validation_num=val_len)\n",
        "early = keras.callbacks.EarlyStopping(monitor='val_acc', min_delta=0.001, patience=10, verbose=1, mode='auto', restore_best_weights=True)\n",
        "show_n_tell.fit_generator(train_gen, validation_data=val_gen, steps_per_epoch=train_steps, validation_steps=val_steps, epochs=n_epochs, verbose=verbose, callbacks=[early])\n",
        "\n",
        "# Save & download\n",
        "show_n_tell.save(model_name+'.h5')\n",
        "#from google.colab import files\n",
        "#files.download(model_name+'.h5')"
      ],
      "execution_count": 0,
      "outputs": []
    },
    {
      "cell_type": "markdown",
      "metadata": {
        "id": "-30B58sHpzO3",
        "colab_type": "text"
      },
      "source": [
        "# `See an example text generation:`"
      ]
    },
    {
      "cell_type": "code",
      "metadata": {
        "id": "kwqEkd7PcsEL",
        "colab_type": "code",
        "outputId": "a2ce3321-7073-425f-8a1e-9642c6a61eb8",
        "colab": {
          "base_uri": "https://localhost:8080/",
          "height": 714
        }
      },
      "source": [
        "# Load & evaluate\n",
        "#loaded_model = keras.models.load_model(model_name+'.h5')\n",
        "loaded_model.summary()\n",
        "plot_model(loaded_model, show_shapes=True, to_file='model.png')\n",
        "\n",
        "! mv model.png /usr/local/share/jupyter/nbextensions/google.colab/model.png"
      ],
      "execution_count": 88,
      "outputs": [
        {
          "output_type": "stream",
          "text": [
            "__________________________________________________________________________________________________\n",
            "Layer (type)                    Output Shape         Param #     Connected to                     \n",
            "==================================================================================================\n",
            "input_24 (InputLayer)           (None, 7, 7, 512)    0                                            \n",
            "__________________________________________________________________________________________________\n",
            "input_25 (InputLayer)           (None, 7, 7, 512)    0                                            \n",
            "__________________________________________________________________________________________________\n",
            "global_max_pooling2d_15 (Global (None, 512)          0           input_24[0][0]                   \n",
            "__________________________________________________________________________________________________\n",
            "global_max_pooling2d_16 (Global (None, 512)          0           input_25[0][0]                   \n",
            "__________________________________________________________________________________________________\n",
            "input_26 (InputLayer)           (None, 60)           0                                            \n",
            "__________________________________________________________________________________________________\n",
            "dense_36 (Dense)                (None, 128)          65664       global_max_pooling2d_15[0][0]    \n",
            "__________________________________________________________________________________________________\n",
            "dense_37 (Dense)                (None, 128)          65664       global_max_pooling2d_16[0][0]    \n",
            "__________________________________________________________________________________________________\n",
            "embedding_8 (Embedding)         (None, 60, 50)       90350       input_26[0][0]                   \n",
            "__________________________________________________________________________________________________\n",
            "concatenate_15 (Concatenate)    (None, 256)          0           dense_36[0][0]                   \n",
            "                                                                 dense_37[0][0]                   \n",
            "__________________________________________________________________________________________________\n",
            "gru_15 (GRU)                    (None, 60, 128)      68736       embedding_8[0][0]                \n",
            "__________________________________________________________________________________________________\n",
            "repeat_vector_8 (RepeatVector)  (None, 60, 256)      0           concatenate_15[0][0]             \n",
            "__________________________________________________________________________________________________\n",
            "time_distributed_8 (TimeDistrib (None, 60, 128)      16512       gru_15[0][0]                     \n",
            "__________________________________________________________________________________________________\n",
            "concatenate_16 (Concatenate)    (None, 60, 384)      0           repeat_vector_8[0][0]            \n",
            "                                                                 time_distributed_8[0][0]         \n",
            "__________________________________________________________________________________________________\n",
            "gru_16 (GRU)                    (None, 256)          492288      concatenate_16[0][0]             \n",
            "__________________________________________________________________________________________________\n",
            "dense_39 (Dense)                (None, 128)          32896       gru_16[0][0]                     \n",
            "__________________________________________________________________________________________________\n",
            "dense_40 (Dense)                (None, 1807)         233103      dense_39[0][0]                   \n",
            "==================================================================================================\n",
            "Total params: 1,065,213\n",
            "Trainable params: 1,065,213\n",
            "Non-trainable params: 0\n",
            "__________________________________________________________________________________________________\n"
          ],
          "name": "stdout"
        }
      ]
    },
    {
      "cell_type": "code",
      "metadata": {
        "id": "U98Fid0lF9iY",
        "colab_type": "code",
        "colab": {
          "resources": {
            "http://localhost:8080/nbextensions/google.colab/model.png": {
              "data": "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",
              "ok": true,
              "headers": [
                [
                  "content-type",
                  "image/png"
                ]
              ],
              "status": 200,
              "status_text": ""
            }
          },
          "base_uri": "https://localhost:8080/",
          "height": 561
        },
        "outputId": "13b373d2-b04b-41c4-e5ff-332c0a63ed49"
      },
      "source": [
        "%%html\n",
        "<img src='/nbextensions/google.colab/model.png' width=1024/>"
      ],
      "execution_count": 90,
      "outputs": [
        {
          "output_type": "display_data",
          "data": {
            "text/html": [
              "<img src='/nbextensions/google.colab/model.png' width=1024/>"
            ],
            "text/plain": [
              "<IPython.core.display.HTML object>"
            ]
          },
          "metadata": {
            "tags": []
          }
        }
      ]
    },
    {
      "cell_type": "code",
      "metadata": {
        "id": "QWqLbC-qA9yH",
        "colab_type": "code",
        "colab": {
          "base_uri": "https://localhost:8080/",
          "height": 309
        },
        "outputId": "8dcc414e-8477-4630-9059-05780546f2db"
      },
      "source": [
        "b4 = evaluate_n_visualise(loaded_model, test_captions, test_encoded_images, tokenizer, max_length, beam=0)\n",
        "print (\"BLEU (@sample):\", b4)"
      ],
      "execution_count": 77,
      "outputs": [
        {
          "output_type": "stream",
          "text": [
            "Actual:    startsequence no acute disease. endofsentence the heart is normal in size. endofsentence the mediastinum is unremarkable. endofsentence the lungs are clear. endsequence\n",
            "Predicted: startsequence no acute cardiopulmonary abnormality endofsentence the lungs are clear bilaterally endofsentence specifically no evidence of focal consolidation pneumothorax or pleural effusion cardio mediastinal silhouette is unremarkable endofsentence visualized osseous structures of the thorax are without acute abnormality endsequence\n",
            "\n",
            "Actual:    startsequence no acute cardiopulmonary abnormalities. endofsentence normal heart size is prominent left ventricular contour. endofsentence unfolding of the thoracic aorta. endofsentence no focal airspace consolidation. endofsentence no pleural effusion or pneumothorax. endofsentence visualized osseous structures are unremarkable appearance. endsequence\n",
            "Predicted: startsequence no acute cardiopulmonary abnormality endofsentence the lungs are clear bilaterally endofsentence specifically no evidence of focal consolidation pneumothorax or pleural effusion cardio mediastinal silhouette is unremarkable endofsentence visualized osseous structures of the thorax are without acute abnormality endsequence\n",
            "\n",
            "Actual:    startsequence no acute preoperative findings. endofsentence cardiac and mediastinal contours are within normal limits. endofsentence granulomatous calcifications are present. endofsentence the lungs are otherwise clear. endofsentence bony structures are intact. endofsentence prior cholecystectomy. endsequence\n",
            "Predicted: startsequence no acute cardiopulmonary abnormality endofsentence the lungs are clear bilaterally endofsentence specifically no evidence of focal consolidation pneumothorax or pleural effusion cardio mediastinal silhouette is unremarkable endofsentence visualized osseous structures of the thorax are without acute abnormality endsequence\n",
            "\n",
            "Actual:    startsequence low lung volumes with right base airspace disease. endofsentence heart size upper limits of normal. endofsentence low lung volumes with mild bronchovascular crowding and right basilar airspace disease. endofsentence no pneumothorax or effusions. endsequence\n",
            "Predicted: startsequence no acute cardiopulmonary abnormality endofsentence the lungs are clear bilaterally endofsentence specifically no evidence of focal consolidation pneumothorax or pleural effusion cardio mediastinal silhouette is unremarkable endofsentence visualized osseous structures of the thorax are without acute abnormality endsequence\n",
            "\n",
            "Actual:    startsequence no acute cardiopulmonary abnormalities. endofsentence the heart is normal in size and contour. endofsentence there is no mediastinal widening. endofsentence the lungs are hyperexpanded. endofsentence scattered granuloma. endofsentence no focal airspace disease. endofsentence no large pleural effusion or pneumothorax. endofsentence the xxxx are intact. endsequence\n",
            "Predicted: startsequence no acute cardiopulmonary abnormality endofsentence the lungs are clear bilaterally endofsentence specifically no evidence of focal consolidation pneumothorax or pleural effusion cardio mediastinal silhouette is unremarkable endofsentence visualized osseous structures of the thorax are without acute abnormality endsequence\n",
            "\n",
            "BLEU (@sample): 0.10734216809244788\n"
          ],
          "name": "stdout"
        }
      ]
    },
    {
      "cell_type": "markdown",
      "metadata": {
        "id": "DT8bCezNqhm4",
        "colab_type": "text"
      },
      "source": [
        "# `See the diversity & evaluate.`"
      ]
    },
    {
      "cell_type": "code",
      "metadata": {
        "id": "u6goclG4yj-D",
        "colab_type": "code",
        "colab": {}
      },
      "source": [
        "predicted = list()\n",
        "actual = list()\n",
        "for key in test_encoded_images:\n",
        "    caption = generate_desc(loaded_model, tokenizer, test_encoded_images[key], max_length)\n",
        "    gold = test_captions [key]\n",
        "    predicted.append(caption.split())\n",
        "    actual.append([gold.split()])"
      ],
      "execution_count": 0,
      "outputs": []
    },
    {
      "cell_type": "code",
      "metadata": {
        "id": "GJC-Gz10FR68",
        "colab_type": "code",
        "colab": {
          "base_uri": "https://localhost:8080/",
          "height": 51
        },
        "outputId": "e45e962d-bc3e-4619-c6a0-16ff8755c056"
      },
      "source": [
        "denom = len(predicted)\n",
        "nom_pred = len(set(map(lambda x: \" \".join(x), predicted)))\n",
        "nom_actual = len(set(map(lambda x: \" \".join(x[0]), actual)))\n",
        "print (\"diversity@predicted:\", nom_pred/denom)\n",
        "print (\"diversity@actual:\", nom_actual/denom)"
      ],
      "execution_count": 84,
      "outputs": [
        {
          "output_type": "stream",
          "text": [
            "diversity@predicted: 0.13166144200626959\n",
            "diversity@actual: 0.9341692789968652\n"
          ],
          "name": "stdout"
        }
      ]
    },
    {
      "cell_type": "code",
      "metadata": {
        "id": "0Ji6jdQt0elW",
        "colab_type": "code",
        "outputId": "6876d1bd-82d0-4bea-f7f3-7cada2bb8491",
        "colab": {
          "base_uri": "https://localhost:8080/",
          "height": 343
        }
      },
      "source": [
        "# call METEOR, ROUGE, CIDEr, SPICE, \n",
        "! git clone https://github.com/salaniz/pycocoevalcap.git || true\n",
        "from pycocoevalcap.rouge import rouge\n",
        "from pycocoevalcap.meteor import meteor\n",
        "from pycocoevalcap.bleu import bleu\n",
        "from pycocoevalcap.cider import cider\n",
        "\n",
        "measures = {\"ROU\":[], \"MET\":[], \"BLU1\":[], \"BLU2\":[], \"BLU3\":[], \"BLU4\":[], \"SPI\":[], \"CID\":[]}\n",
        "for pred,act in zip(predicted, actual):\n",
        "  pred, act = \" \".join(pred), \" \".join(act[0])\n",
        "  rou = rouge.Rouge().calc_score([pred], [act])\n",
        "  blu1, _ = bleu.BleuScorer(n=1, test=pred, refs=[act]).compute_score(option='closest', verbose=0)\n",
        "  blu2, _ = bleu.BleuScorer(n=2, test=pred, refs=[act]).compute_score(option='closest', verbose=0)\n",
        "  blu3, _ = bleu.BleuScorer(n=3, test=pred, refs=[act]).compute_score(option='closest', verbose=0)\n",
        "  blu4, _ = bleu.BleuScorer(n=4, test=pred, refs=[act]).compute_score(option='closest', verbose=0)\n",
        "  # blu4, _ = bleu.Bleu(4).compute_score({1:[pred]}, {1:[act]})\n",
        "  cid, _ = cider.CiderScorer(test=pred, refs=[act]).compute_score(option='closest', verbose=0)\n",
        "  #met, _ = meteor.Meteor().compute_score({1:[pred]}, {1:[act]}) # too slow\n",
        "  measures[\"ROU\"].append(rou)\n",
        "  measures[\"BLU1\"].append(blu1)\n",
        "  measures[\"BLU2\"].append(blu2)\n",
        "  measures[\"BLU3\"].append(blu3)\n",
        "  measures[\"BLU4\"].append(blu4)\n",
        "  measures[\"CID\"].append(cid)\n",
        "\n",
        "print (\"ROUGE:\", np.mean(measures[\"ROU\"]))\n",
        "print (\"METEOR:\", np.mean(measures[\"MET\"]))\n",
        "print (\"BLEU1:\", np.mean(measures[\"BLU1\"]))\n",
        "print (\"BLEU2:\", np.mean(measures[\"BLU2\"]))\n",
        "print (\"BLEU3:\", np.mean(measures[\"BLU3\"]))\n",
        "print (\"BLEU4:\", np.mean(measures[\"BLU4\"]))\n",
        "print (\"CIDEr:\", np.mean(measures[\"CID\"]))"
      ],
      "execution_count": 85,
      "outputs": [
        {
          "output_type": "stream",
          "text": [
            "Cloning into 'pycocoevalcap'...\n",
            "remote: Enumerating objects: 7, done.\u001b[K\n",
            "remote: Counting objects: 100% (7/7), done.\u001b[K\n",
            "remote: Compressing objects: 100% (5/5), done.\u001b[K\n",
            "remote: Total 751 (delta 2), reused 6 (delta 2), pack-reused 744\u001b[K\n",
            "Receiving objects: 100% (751/751), 106.72 MiB | 41.61 MiB/s, done.\n",
            "Resolving deltas: 100% (404/404), done.\n",
            "ROUGE: 0.3117538312591588\n",
            "METEOR: nan\n",
            "BLEU1: 0.32565657693775246\n",
            "BLEU2: 0.2501687377541738\n",
            "BLEU3: 0.20029975998237662\n",
            "BLEU4: 0.16473906865130708\n",
            "CIDEr: 0.0\n"
          ],
          "name": "stdout"
        },
        {
          "output_type": "stream",
          "text": [
            "/usr/local/lib/python3.6/dist-packages/numpy/core/fromnumeric.py:3118: RuntimeWarning: Mean of empty slice.\n",
            "  out=out, **kwargs)\n",
            "/usr/local/lib/python3.6/dist-packages/numpy/core/_methods.py:85: RuntimeWarning: invalid value encountered in double_scalars\n",
            "  ret = ret.dtype.type(ret / rcount)\n"
          ],
          "name": "stderr"
        }
      ]
    },
    {
      "cell_type": "markdown",
      "metadata": {
        "id": "8QzjlGutqtuy",
        "colab_type": "text"
      },
      "source": [
        "# `Now see what happens per epoch:`"
      ]
    },
    {
      "cell_type": "code",
      "metadata": {
        "id": "mTlGuDOJlQ5c",
        "colab_type": "code",
        "colab": {}
      },
      "source": [
        "# See what the model produces in each epoch:\n",
        "show_n_tell = define_model(vocab_size, max_length, loss=\"categorical_crossentropy\")\n",
        "for i in range(n_epochs):  \n",
        "  print (\"### Running epoch \", i, \" ###\")\n",
        "  train_gen = data_generator(train_captions, train_encoded_images, tokenizer, max_length, n_patients_per_update, validation=False, validation_num=val_len)\n",
        "  val_gen = data_generator(train_captions, train_encoded_images, tokenizer, max_length, n_patients_per_update, validation=True, validation_num=val_len)\n",
        "  show_n_tell.fit_generator(train_gen, validation_data=val_gen, steps_per_epoch=train_steps, validation_steps=val_steps, epochs=1, verbose=verbose)\n",
        "  for _ in range(3):\n",
        "    test_id = random.choice(test_ids)\n",
        "    generation = generate_desc(show_n_tell, tokenizer, test_encoded_images[test_id], max_length)\n",
        "    print (\"Predicted:\", generation)\n",
        "    print (\"Actual   :\", test_captions[test_id])\n",
        "    print ()"
      ],
      "execution_count": 0,
      "outputs": []
    },
    {
      "cell_type": "code",
      "metadata": {
        "id": "mcrA4z9jMfxS",
        "colab_type": "code",
        "colab": {}
      },
      "source": [
        "# run experiment with repetitions\n",
        "n_repeats = 1\n",
        "train_results, test_results = list(), list()\n",
        "for i in range(n_repeats):\n",
        "\tmodel = define_model(vocab_size, max_length)\n",
        "\tmodel.fit_generator(data_generator(train_captions, train_encoded_images, tokenizer, max_length, n_photos_per_update), steps_per_epoch=n_batches_per_epoch, epochs=n_epochs, verbose=verbose)\n",
        "\ttrain_score = evaluate_model(model, train_captions, train_encoded_images, tokenizer, max_length)\n",
        "\ttrain_results.append(train_score)\n",
        "\tprint('>%d: train=%f' % ((i+1), train_score))\n",
        "df = DataFrame()\n",
        "df['train'] = train_results\n",
        "print(df.describe())\n",
        "df.to_csv(model_name+'.csv', index=False)"
      ],
      "execution_count": 0,
      "outputs": []
    }
  ]
}